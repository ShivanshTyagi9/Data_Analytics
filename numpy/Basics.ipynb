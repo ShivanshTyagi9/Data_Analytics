{
 "cells": [
  {
   "cell_type": "code",
   "execution_count": 2,
   "id": "00024bd2-98aa-4346-9965-821169b22f00",
   "metadata": {},
   "outputs": [],
   "source": [
    "import numpy as np"
   ]
  },
  {
   "cell_type": "code",
   "execution_count": 3,
   "id": "03e91aa9-4eb7-4d17-89e5-738cbd5bd193",
   "metadata": {},
   "outputs": [
    {
     "name": "stdout",
     "output_type": "stream",
     "text": [
      "2.2.3\n"
     ]
    }
   ],
   "source": [
    "print(np.__version__)"
   ]
  },
  {
   "cell_type": "markdown",
   "id": "eedc7525-8e4f-441d-a48b-c9bdd6b9bac5",
   "metadata": {},
   "source": [
    "Why numpy is faster than list?\n",
    "- Each element in list [1,2,3] has attributes\n",
    "    - Size\n",
    "    - Reference Count\n",
    "    - Object Type\n",
    "    - Object Value\n",
    "    - Discontinous memory allocation\n",
    "- Each element in numpy array has:\n",
    "    - Raw data\n",
    "    - dtype(data type)\n",
    "    - Continous memory allocation"
   ]
  },
  {
   "cell_type": "code",
   "execution_count": 6,
   "id": "39da595b-da23-4be7-8a95-ca228125dcbf",
   "metadata": {},
   "outputs": [],
   "source": [
    "a = [1,3,5]\n",
    "b = [2,4,6]"
   ]
  },
  {
   "cell_type": "code",
   "execution_count": 7,
   "id": "3bdda451-cee0-447b-b9d4-eb2c9c7db840",
   "metadata": {},
   "outputs": [
    {
     "ename": "TypeError",
     "evalue": "can't multiply sequence by non-int of type 'list'",
     "output_type": "error",
     "traceback": [
      "\u001b[1;31m---------------------------------------------------------------------------\u001b[0m",
      "\u001b[1;31mTypeError\u001b[0m                                 Traceback (most recent call last)",
      "Cell \u001b[1;32mIn[7], line 1\u001b[0m\n\u001b[1;32m----> 1\u001b[0m \u001b[38;5;28mprint\u001b[39m(\u001b[43ma\u001b[49m\u001b[38;5;241;43m*\u001b[39;49m\u001b[43mb\u001b[49m)\n",
      "\u001b[1;31mTypeError\u001b[0m: can't multiply sequence by non-int of type 'list'"
     ]
    }
   ],
   "source": [
    "print(a*b)"
   ]
  },
  {
   "cell_type": "code",
   "execution_count": 9,
   "id": "edc1f058-5743-4b6e-9a8c-c5492e717a4f",
   "metadata": {},
   "outputs": [
    {
     "name": "stdout",
     "output_type": "stream",
     "text": [
      "[ 2 12 30]\n"
     ]
    }
   ],
   "source": [
    "c = np.array(a)\n",
    "d = np.array(b)\n",
    "print(c*d)"
   ]
  },
  {
   "cell_type": "code",
   "execution_count": 10,
   "id": "69162337-28d4-4dae-8b1b-cedcb32de07c",
   "metadata": {},
   "outputs": [
    {
     "name": "stdout",
     "output_type": "stream",
     "text": [
      "[[1 3 5]\n",
      " [2 4 6]]\n"
     ]
    }
   ],
   "source": [
    "e = np.array([c,d])\n",
    "print(e)"
   ]
  },
  {
   "cell_type": "code",
   "execution_count": 12,
   "id": "059e5aaf-26a5-4787-bdf6-aa936030001c",
   "metadata": {},
   "outputs": [
    {
     "data": {
      "text/plain": [
       "2"
      ]
     },
     "execution_count": 12,
     "metadata": {},
     "output_type": "execute_result"
    }
   ],
   "source": [
    "#Get Dimension\n",
    "e.ndim"
   ]
  },
  {
   "cell_type": "code",
   "execution_count": 13,
   "id": "9db5063d-c065-4ad8-8f12-143f313c8627",
   "metadata": {},
   "outputs": [
    {
     "data": {
      "text/plain": [
       "(2, 3)"
      ]
     },
     "execution_count": 13,
     "metadata": {},
     "output_type": "execute_result"
    }
   ],
   "source": [
    "# Get Shape\n",
    "e.shape"
   ]
  },
  {
   "cell_type": "code",
   "execution_count": 22,
   "id": "3973e524-cf46-45ce-84de-9441197b55b3",
   "metadata": {},
   "outputs": [
    {
     "name": "stdout",
     "output_type": "stream",
     "text": [
      "int64\n",
      "8\n"
     ]
    }
   ],
   "source": [
    "#Get Type\n",
    "print(e.dtype)\n",
    "print(e.itemsize)"
   ]
  },
  {
   "cell_type": "code",
   "execution_count": 24,
   "id": "c6f617c2-3000-4ba5-ada3-b48e3d28fd85",
   "metadata": {},
   "outputs": [
    {
     "name": "stdout",
     "output_type": "stream",
     "text": [
      "[1 2 3]\n",
      "int16\n",
      "2\n",
      "6\n"
     ]
    }
   ],
   "source": [
    "f = np.array([1,2,3], dtype = 'int16')\n",
    "print(f)\n",
    "print(f.dtype)\n",
    "#Element Size\n",
    "print(f.itemsize)\n",
    "#Get total Size\n",
    "print(f.nbytes)"
   ]
  },
  {
   "cell_type": "markdown",
   "id": "7ab7f4ad-b5cf-4f5f-8fe1-1a8169f03fe8",
   "metadata": {},
   "source": [
    "**Accessing/Changing elements in rows , columns**"
   ]
  },
  {
   "cell_type": "code",
   "execution_count": 26,
   "id": "c4655d17-81a9-4053-8ee5-f734f49ef825",
   "metadata": {},
   "outputs": [
    {
     "name": "stdout",
     "output_type": "stream",
     "text": [
      "[[ 1  2  3  4  5  6  7  8]\n",
      " [11 12 13 14 15 16 17 18]]\n"
     ]
    }
   ],
   "source": [
    "a = np.array([[1,2,3,4,5,6,7,8],[11,12,13,14,15,16,17,18]])\n",
    "print(a)"
   ]
  },
  {
   "cell_type": "code",
   "execution_count": 27,
   "id": "7280053f-703a-4a59-a0d4-ec7c61941596",
   "metadata": {},
   "outputs": [
    {
     "name": "stdout",
     "output_type": "stream",
     "text": [
      "[1 2 3 4 5 6 7 8]\n"
     ]
    }
   ],
   "source": [
    "print(a[0])"
   ]
  },
  {
   "cell_type": "code",
   "execution_count": 33,
   "id": "376acbf3-55c2-45ab-b0cf-c1f666a08543",
   "metadata": {},
   "outputs": [
    {
     "name": "stdout",
     "output_type": "stream",
     "text": [
      "[ 4 14]\n"
     ]
    }
   ],
   "source": [
    "print(a[:, 3])"
   ]
  },
  {
   "cell_type": "code",
   "execution_count": 34,
   "id": "c4968351-13cb-4f32-b27f-83d66280d960",
   "metadata": {},
   "outputs": [
    {
     "name": "stdout",
     "output_type": "stream",
     "text": [
      "[1 2 3 4 5 6 7 8]\n"
     ]
    }
   ],
   "source": [
    "print(a[0,:])"
   ]
  },
  {
   "cell_type": "code",
   "execution_count": 46,
   "id": "d1a6d688-3ab0-4d29-9a4c-1877dea2a967",
   "metadata": {},
   "outputs": [
    {
     "name": "stdout",
     "output_type": "stream",
     "text": [
      "[15  5]\n"
     ]
    }
   ],
   "source": [
    "#Slicing [startindex:endindex:stepsize]\n",
    "print(a[::-1,4])"
   ]
  },
  {
   "cell_type": "code",
   "execution_count": 47,
   "id": "bdbf9af5-51a2-45f6-a596-c6876240d8c1",
   "metadata": {},
   "outputs": [],
   "source": [
    "a[1,4] = 100"
   ]
  },
  {
   "cell_type": "code",
   "execution_count": 48,
   "id": "520dea6c-bdc1-4a4c-83d1-d873c86bc199",
   "metadata": {},
   "outputs": [
    {
     "name": "stdout",
     "output_type": "stream",
     "text": [
      "[[  1   2   3   4   5   6   7   8]\n",
      " [ 11  12  13  14 100  16  17  18]]\n"
     ]
    }
   ],
   "source": [
    "print(a)"
   ]
  },
  {
   "cell_type": "code",
   "execution_count": 49,
   "id": "a2e258be-b3d6-4083-af34-8e68cdfa0402",
   "metadata": {},
   "outputs": [],
   "source": [
    "a[0, 0:2] = [99,98]"
   ]
  },
  {
   "cell_type": "code",
   "execution_count": 50,
   "id": "24da1576-31b7-43a3-b972-6bf1e8914888",
   "metadata": {},
   "outputs": [
    {
     "name": "stdout",
     "output_type": "stream",
     "text": [
      "[[ 99  98   3   4   5   6   7   8]\n",
      " [ 11  12  13  14 100  16  17  18]]\n"
     ]
    }
   ],
   "source": [
    "print(a)"
   ]
  },
  {
   "cell_type": "markdown",
   "id": "f7c6bb25-879c-4f94-8b0e-bd839e49b9c2",
   "metadata": {},
   "source": [
    "**3-D array**"
   ]
  },
  {
   "cell_type": "code",
   "execution_count": 55,
   "id": "4a5f7bea-ab61-4fd8-9dfc-843ac36afe9b",
   "metadata": {},
   "outputs": [],
   "source": [
    "a = np.array([\n",
    "    [[1,2],\n",
    "     [3,4]],\n",
    "    [[5,6],\n",
    "     [7,8]],\n",
    "    [[9,10],\n",
    "     [11,12]]\n",
    "])"
   ]
  },
  {
   "cell_type": "code",
   "execution_count": 56,
   "id": "db493250-1c15-4b91-91fc-9b7d9ae1008a",
   "metadata": {},
   "outputs": [
    {
     "name": "stdout",
     "output_type": "stream",
     "text": [
      "[[[ 1  2]\n",
      "  [ 3  4]]\n",
      "\n",
      " [[ 5  6]\n",
      "  [ 7  8]]\n",
      "\n",
      " [[ 9 10]\n",
      "  [11 12]]]\n"
     ]
    }
   ],
   "source": [
    "print(a)"
   ]
  },
  {
   "cell_type": "code",
   "execution_count": 65,
   "id": "a7fbb360-50c7-4227-b2ef-178882668c8a",
   "metadata": {},
   "outputs": [
    {
     "name": "stdout",
     "output_type": "stream",
     "text": [
      "[[ 1  3]\n",
      " [ 5  7]\n",
      " [ 9 11]]\n"
     ]
    }
   ],
   "source": [
    "print(a[:,:,0])"
   ]
  },
  {
   "cell_type": "code",
   "execution_count": 68,
   "id": "3b1cfe2f-0d95-4dff-b5d4-32d01620ea15",
   "metadata": {},
   "outputs": [],
   "source": [
    "#replace\n",
    "a[:,:,0] = 1"
   ]
  },
  {
   "cell_type": "code",
   "execution_count": 69,
   "id": "07c2373a-0ec3-4d6b-96dc-9c6a6dea6db1",
   "metadata": {},
   "outputs": [
    {
     "name": "stdout",
     "output_type": "stream",
     "text": [
      "[[[  1  99]\n",
      "  [  1 102]]\n",
      "\n",
      " [[  1   6]\n",
      "  [  1   8]]\n",
      "\n",
      " [[  1  10]\n",
      "  [  1  12]]]\n"
     ]
    }
   ],
   "source": [
    "print(a)"
   ]
  },
  {
   "cell_type": "markdown",
   "id": "15b21134-1492-445e-845b-0b3d1509de5d",
   "metadata": {},
   "source": [
    "**Initialyzing Different types of Arrays**"
   ]
  },
  {
   "cell_type": "code",
   "execution_count": 81,
   "id": "2935cade-704b-43b1-b8de-47f3f7745816",
   "metadata": {},
   "outputs": [
    {
     "data": {
      "text/plain": [
       "array([[0., 0., 0., 0., 0.],\n",
       "       [0., 0., 0., 0., 0.],\n",
       "       [0., 0., 0., 0., 0.],\n",
       "       [0., 0., 0., 0., 0.],\n",
       "       [0., 0., 0., 0., 0.]])"
      ]
     },
     "execution_count": 81,
     "metadata": {},
     "output_type": "execute_result"
    }
   ],
   "source": [
    "#All 0s\n",
    "np.zeros((5,5))"
   ]
  },
  {
   "cell_type": "code",
   "execution_count": 83,
   "id": "6aea24be-6b2b-4dc1-8391-bc7ec9954946",
   "metadata": {},
   "outputs": [
    {
     "data": {
      "text/plain": [
       "array([[1., 1.],\n",
       "       [1., 1.],\n",
       "       [1., 1.],\n",
       "       [1., 1.]])"
      ]
     },
     "execution_count": 83,
     "metadata": {},
     "output_type": "execute_result"
    }
   ],
   "source": [
    "#All 1s\n",
    "np.ones((4,2))"
   ]
  },
  {
   "cell_type": "code",
   "execution_count": 90,
   "id": "17a6d82a-1c0a-4750-8381-2eb9d864299a",
   "metadata": {},
   "outputs": [
    {
     "data": {
      "text/plain": [
       "array([[5],\n",
       "       [5]])"
      ]
     },
     "execution_count": 90,
     "metadata": {},
     "output_type": "execute_result"
    }
   ],
   "source": [
    "#Any number\n",
    "np.full((2,2), 5)\n",
    "np.full((2), 5).reshape(2,1)"
   ]
  },
  {
   "cell_type": "code",
   "execution_count": 91,
   "id": "e9d3d551-3164-416c-b87f-49af3c2fed33",
   "metadata": {},
   "outputs": [
    {
     "data": {
      "text/plain": [
       "array([[0.19044987, 0.70022403, 0.85133182, 0.96591634, 0.31493695,\n",
       "        0.1530805 , 0.96010399, 0.18485488, 0.29044824],\n",
       "       [0.14894916, 0.08905758, 0.54511489, 0.82213654, 0.29285108,\n",
       "        0.94725823, 0.00207507, 0.31152489, 0.04253897]])"
      ]
     },
     "execution_count": 91,
     "metadata": {},
     "output_type": "execute_result"
    }
   ],
   "source": [
    "#random decimal number\n",
    "np.random.rand(2,9)"
   ]
  },
  {
   "cell_type": "code",
   "execution_count": 96,
   "id": "8674f51a-8903-4078-bcca-0583307e67db",
   "metadata": {},
   "outputs": [
    {
     "data": {
      "text/plain": [
       "array([[0.50195137, 0.183317  , 0.34528826],\n",
       "       [0.51049555, 0.07919231, 0.71481054]])"
      ]
     },
     "execution_count": 96,
     "metadata": {},
     "output_type": "execute_result"
    }
   ],
   "source": [
    "#random values of defined shape\n",
    "np.random.random_sample(e.shape)"
   ]
  },
  {
   "cell_type": "code",
   "execution_count": 99,
   "id": "cedd36cc-7494-420b-a38d-e287eb7a87cd",
   "metadata": {},
   "outputs": [
    {
     "data": {
      "text/plain": [
       "array([[6, 6, 6, 5],\n",
       "       [6, 4, 6, 5],\n",
       "       [4, 4, 6, 4],\n",
       "       [5, 6, 5, 5]], dtype=int16)"
      ]
     },
     "execution_count": 99,
     "metadata": {},
     "output_type": "execute_result"
    }
   ],
   "source": [
    "#Random integer values\n",
    "np.random.randint(4,7, size=(4,4), dtype = 'int16')"
   ]
  },
  {
   "cell_type": "code",
   "execution_count": 100,
   "id": "6f812ce8-214e-4d41-91a5-384fae4777cf",
   "metadata": {},
   "outputs": [
    {
     "data": {
      "text/plain": [
       "array([[1., 0., 0., 0.],\n",
       "       [0., 1., 0., 0.],\n",
       "       [0., 0., 1., 0.],\n",
       "       [0., 0., 0., 1.]])"
      ]
     },
     "execution_count": 100,
     "metadata": {},
     "output_type": "execute_result"
    }
   ],
   "source": [
    "#identiy matrix\n",
    "np.identity(4)"
   ]
  },
  {
   "cell_type": "code",
   "execution_count": 103,
   "id": "8f9ce9dd-b429-4478-a541-0c08dd40269c",
   "metadata": {},
   "outputs": [
    {
     "name": "stdout",
     "output_type": "stream",
     "text": [
      "[1 1 1 2 2 2 3 3 3]\n"
     ]
    }
   ],
   "source": [
    "arr = np.array([1,2,3])\n",
    "repeat = np.repeat(arr,3, axis = 0)\n",
    "print(repeat)"
   ]
  },
  {
   "cell_type": "code",
   "execution_count": 108,
   "id": "7fdd4717-f8fd-4115-995d-4924f23c2d37",
   "metadata": {},
   "outputs": [
    {
     "name": "stdout",
     "output_type": "stream",
     "text": [
      "[[1. 1. 1. 1. 1.]\n",
      " [1. 0. 0. 0. 1.]\n",
      " [1. 0. 9. 0. 1.]\n",
      " [1. 0. 0. 0. 1.]\n",
      " [1. 1. 1. 1. 1.]]\n"
     ]
    }
   ],
   "source": [
    "a = np.ones((5,5))\n",
    "a[1:4,1:4] = 0\n",
    "a[2,2] = 9\n",
    "print(a)"
   ]
  },
  {
   "cell_type": "markdown",
   "id": "4b648227-c7b7-446f-806a-aa7d06e3060a",
   "metadata": {},
   "source": [
    "**Copying Mechanics**"
   ]
  },
  {
   "cell_type": "code",
   "execution_count": 114,
   "id": "ce63e8da-173f-485c-8e68-85e151515bab",
   "metadata": {},
   "outputs": [
    {
     "data": {
      "text/plain": [
       "array([  1, 100,   3])"
      ]
     },
     "execution_count": 114,
     "metadata": {},
     "output_type": "execute_result"
    }
   ],
   "source": [
    "a = np.array([1,2,3])\n",
    "b = a # b is referencing to the location of a.\n",
    "b[1] = 100\n",
    "a"
   ]
  },
  {
   "cell_type": "code",
   "execution_count": 115,
   "id": "46a3ec9e-e64a-4f4c-b581-ab9860710c18",
   "metadata": {},
   "outputs": [
    {
     "data": {
      "text/plain": [
       "array([1, 2, 3])"
      ]
     },
     "execution_count": 115,
     "metadata": {},
     "output_type": "execute_result"
    }
   ],
   "source": [
    "a = np.array([1,2,3])\n",
    "b = a.copy()\n",
    "b[1] = 100\n",
    "a"
   ]
  },
  {
   "cell_type": "markdown",
   "id": "c037aa1c-8bf8-455b-b496-5f713323161f",
   "metadata": {},
   "source": [
    "**MATHEMATICS**"
   ]
  },
  {
   "cell_type": "code",
   "execution_count": 117,
   "id": "553e4139-bc20-433a-a534-d277c15b7b9b",
   "metadata": {},
   "outputs": [
    {
     "data": {
      "text/plain": [
       "array([1, 2, 3, 4])"
      ]
     },
     "execution_count": 117,
     "metadata": {},
     "output_type": "execute_result"
    }
   ],
   "source": [
    "a = np.array([1,2,3,4])\n",
    "a"
   ]
  },
  {
   "cell_type": "code",
   "execution_count": 118,
   "id": "32facbe0-f592-49f2-986e-7fac12359c4e",
   "metadata": {},
   "outputs": [
    {
     "data": {
      "text/plain": [
       "array([3, 4, 5, 6])"
      ]
     },
     "execution_count": 118,
     "metadata": {},
     "output_type": "execute_result"
    }
   ],
   "source": [
    "a + 2"
   ]
  },
  {
   "cell_type": "code",
   "execution_count": 119,
   "id": "deb7b5be-d6a0-474a-ab67-c5a020bb92b4",
   "metadata": {},
   "outputs": [
    {
     "data": {
      "text/plain": [
       "array([-1,  0,  1,  2])"
      ]
     },
     "execution_count": 119,
     "metadata": {},
     "output_type": "execute_result"
    }
   ],
   "source": [
    "a - 2"
   ]
  },
  {
   "cell_type": "code",
   "execution_count": 120,
   "id": "f220d55d-6ba5-4ab6-adc4-9a287381662a",
   "metadata": {},
   "outputs": [
    {
     "data": {
      "text/plain": [
       "array([2, 4, 6, 8])"
      ]
     },
     "execution_count": 120,
     "metadata": {},
     "output_type": "execute_result"
    }
   ],
   "source": [
    "a * 2"
   ]
  },
  {
   "cell_type": "code",
   "execution_count": 121,
   "id": "8edcf83a-1559-4a6d-a776-bf1d4eea422f",
   "metadata": {},
   "outputs": [
    {
     "data": {
      "text/plain": [
       "array([0.5, 1. , 1.5, 2. ])"
      ]
     },
     "execution_count": 121,
     "metadata": {},
     "output_type": "execute_result"
    }
   ],
   "source": [
    "a / 2"
   ]
  },
  {
   "cell_type": "code",
   "execution_count": 127,
   "id": "85d7a6dd-88ba-4e9a-b5e3-0d1355b62ce4",
   "metadata": {},
   "outputs": [
    {
     "data": {
      "text/plain": [
       "array([1, 0, 3, 0])"
      ]
     },
     "execution_count": 127,
     "metadata": {},
     "output_type": "execute_result"
    }
   ],
   "source": [
    "b = np.array([1,0,1,0])\n",
    "a + b\n",
    "a * b"
   ]
  },
  {
   "cell_type": "code",
   "execution_count": 124,
   "id": "5e74341d-c101-4845-bfde-e8cacfabd157",
   "metadata": {},
   "outputs": [
    {
     "data": {
      "text/plain": [
       "array([ 1,  4,  9, 16])"
      ]
     },
     "execution_count": 124,
     "metadata": {},
     "output_type": "execute_result"
    }
   ],
   "source": [
    "a ** 2"
   ]
  },
  {
   "cell_type": "code",
   "execution_count": 125,
   "id": "d970dac3-4ea3-45c9-9bd0-1c92e42bc44c",
   "metadata": {},
   "outputs": [
    {
     "data": {
      "text/plain": [
       "array([ 0.84147098,  0.90929743,  0.14112001, -0.7568025 ])"
      ]
     },
     "execution_count": 125,
     "metadata": {},
     "output_type": "execute_result"
    }
   ],
   "source": [
    "#Take sin\n",
    "np.sin(a)"
   ]
  },
  {
   "cell_type": "code",
   "execution_count": 126,
   "id": "6ecc7e86-58b1-45e8-bb13-e95962e2968e",
   "metadata": {},
   "outputs": [
    {
     "data": {
      "text/plain": [
       "array([ 0.54030231, -0.41614684, -0.9899925 , -0.65364362])"
      ]
     },
     "execution_count": 126,
     "metadata": {},
     "output_type": "execute_result"
    }
   ],
   "source": [
    "#Take cos\n",
    "np.cos(a)"
   ]
  },
  {
   "cell_type": "markdown",
   "id": "e4e80712-872d-462c-a803-c621cc379f00",
   "metadata": {},
   "source": [
    "**Linear Algebra**"
   ]
  },
  {
   "cell_type": "code",
   "execution_count": 132,
   "id": "96389d9f-71c4-4ca2-808d-c88914238d92",
   "metadata": {},
   "outputs": [
    {
     "name": "stdout",
     "output_type": "stream",
     "text": [
      "[[1. 1. 1. 1.]\n",
      " [1. 1. 1. 1.]]\n",
      "[[2 2]\n",
      " [2 2]\n",
      " [2 2]\n",
      " [2 2]]\n"
     ]
    },
    {
     "data": {
      "text/plain": [
       "array([[8., 8.],\n",
       "       [8., 8.]])"
      ]
     },
     "execution_count": 132,
     "metadata": {},
     "output_type": "execute_result"
    }
   ],
   "source": [
    "#Multiplication\n",
    "a = np.ones((2,4))\n",
    "print(a)\n",
    "\n",
    "b = np.full((4,2),2)\n",
    "print(b)\n",
    "\n",
    "np.matmul(a,b)"
   ]
  },
  {
   "cell_type": "code",
   "execution_count": 133,
   "id": "981b2482-9fa8-417e-955a-8c08d9275de6",
   "metadata": {},
   "outputs": [
    {
     "data": {
      "text/plain": [
       "np.float64(1.0)"
      ]
     },
     "execution_count": 133,
     "metadata": {},
     "output_type": "execute_result"
    }
   ],
   "source": [
    "#Finding the determinant\n",
    "c = np.identity(3)\n",
    "np.linalg.det(c)"
   ]
  },
  {
   "cell_type": "code",
   "execution_count": null,
   "id": "a7554b83-f07f-404e-a860-074d9a9a4db3",
   "metadata": {},
   "outputs": [],
   "source": []
  }
 ],
 "metadata": {
  "kernelspec": {
   "display_name": "Data_Analysis",
   "language": "python",
   "name": "data_env"
  },
  "language_info": {
   "codemirror_mode": {
    "name": "ipython",
    "version": 3
   },
   "file_extension": ".py",
   "mimetype": "text/x-python",
   "name": "python",
   "nbconvert_exporter": "python",
   "pygments_lexer": "ipython3",
   "version": "3.12.8"
  }
 },
 "nbformat": 4,
 "nbformat_minor": 5
}
